{
  "nbformat": 4,
  "nbformat_minor": 0,
  "metadata": {
    "colab": {
      "name": "Progress Report 2 - Scrape Finetune.ipynb",
      "provenance": [],
      "collapsed_sections": [],
      "toc_visible": true,
      "authorship_tag": "ABX9TyNpDcVpc+ostFtCvRHA5cNL",
      "include_colab_link": true
    },
    "kernelspec": {
      "display_name": "Python 3",
      "name": "python3"
    },
    "language_info": {
      "name": "python"
    }
  },
  "cells": [
    {
      "cell_type": "markdown",
      "metadata": {
        "id": "view-in-github",
        "colab_type": "text"
      },
      "source": [
        "<a href=\"https://colab.research.google.com/github/ranielyn/gpt2-paper-title-generator/blob/master/Progress_Report_2_Scrape_Finetune.ipynb\" target=\"_parent\"><img src=\"https://colab.research.google.com/assets/colab-badge.svg\" alt=\"Open In Colab\"/></a>"
      ]
    },
    {
      "cell_type": "code",
      "metadata": {
        "colab": {
          "base_uri": "https://localhost:8080/"
        },
        "id": "KBkpRgBCBS2_",
        "outputId": "5d5de3f4-be06-4d36-cd12-87c86fc1f609"
      },
      "source": [
        "%tensorflow_version 1.x\n",
        "!pip install -q gpt-2-simple\n",
        "!pip install arxivscraper\n",
        "import gpt_2_simple as gpt2\n",
        "from datetime import datetime\n",
        "from google.colab import files"
      ],
      "execution_count": 1,
      "outputs": [
        {
          "output_type": "stream",
          "text": [
            "TensorFlow 1.x selected.\n",
            "  Building wheel for gpt-2-simple (setup.py) ... \u001b[?25l\u001b[?25hdone\n",
            "Collecting arxivscraper\n",
            "  Downloading arxivscraper-0.0.4-py3-none-any.whl (8.3 kB)\n",
            "Installing collected packages: arxivscraper\n",
            "Successfully installed arxivscraper-0.0.4\n",
            "WARNING:tensorflow:\n",
            "The TensorFlow contrib module will not be included in TensorFlow 2.0.\n",
            "For more information, please see:\n",
            "  * https://github.com/tensorflow/community/blob/master/rfcs/20180907-contrib-sunset.md\n",
            "  * https://github.com/tensorflow/addons\n",
            "  * https://github.com/tensorflow/io (for I/O related ops)\n",
            "If you depend on functionality not listed there, please file an issue.\n",
            "\n"
          ],
          "name": "stdout"
        }
      ]
    },
    {
      "cell_type": "markdown",
      "metadata": {
        "id": "jXbJVV6gmW7j"
      },
      "source": [
        "# **Scrape Finetune Sample**\n"
      ]
    },
    {
      "cell_type": "markdown",
      "metadata": {
        "id": "aWKxD4Agmjtd"
      },
      "source": [
        "# **Step 1 - Scrape data**\n",
        "In order to work, we require that the data is saved to a csv file with one piece of text (e.g. one paper title) on each line. There are no actual commas in the file, and there shouldn't be newlines contained in each piece of text.\n"
      ]
    },
    {
      "cell_type": "code",
      "metadata": {
        "colab": {
          "base_uri": "https://localhost:8080/"
        },
        "id": "sgUDULK9mn7y",
        "outputId": "aeacc2cd-9bf2-466d-bbe1-98d87abf99e3"
      },
      "source": [
        "import arxivscraper as ax\n",
        "import numpy as np\n",
        "\n",
        "'''\n",
        "# scraper for arxiv stat.ml\n",
        "scraper = ax.Scraper(category='stat', date_from='2017-08-01',\n",
        "                     date_until='2019-07-01', t=10, \n",
        "                     filters={'categories':['stat.ml'],'abstract':['learning']})\n",
        "\n",
        "# scraper for arxiv q-bio\n",
        "scraper = ax.Scraper(category='q-bio', date_from='2016-08-01',\n",
        "                     date_until='2019-07-01', t=10, \n",
        "                     filters={'categories':['q-bio.GN', 'q-bio.NC']})\n",
        "'''\n",
        "\n",
        "# scraper for arxiv physics\n",
        "scraper = ax.Scraper(category='physics', date_from='2019-05-01',\n",
        "                     date_until='2019-07-03', t=10,\n",
        "                     filters={'categories':['quant-ph']})\n",
        "\n",
        "output = scraper.scrape()\n",
        "\n",
        "\n",
        "\n",
        "# cols = ('id', 'title', 'categories', 'abstract', 'doi', 'created', 'updated', 'authors')\n",
        "titles = [' '.join(o['title'].split()) for o in output]\n",
        "np.savetxt('title_ref2.txt', np.array(titles), fmt='%s')"
      ],
      "execution_count": 2,
      "outputs": [
        {
          "output_type": "stream",
          "text": [
            "fetching up to  1000 records...\n",
            "fetching up to  2000 records...\n",
            "fetching up to  3000 records...\n",
            "fetching up to  4000 records...\n",
            "fetching up to  5000 records...\n",
            "fetching up to  6000 records...\n",
            "fetching up to  7000 records...\n",
            "fetching up to  8000 records...\n",
            "fetching up to  9000 records...\n",
            "fetching up to  10000 records...\n",
            "fetching up to  11000 records...\n",
            "fetching up to  12000 records...\n",
            "fetching up to  13000 records...\n",
            "fetching is completed in 222.0 seconds.\n",
            "Total number of records 1430\n"
          ],
          "name": "stdout"
        }
      ]
    },
    {
      "cell_type": "markdown",
      "metadata": {
        "id": "9RzdxWn_o8K8"
      },
      "source": [
        "# **step 2 - finetune gpt2**\n",
        "this code will download gpt2 and finetune it on the file title.csv, generating samples at intermediate steps"
      ]
    },
    {
      "cell_type": "code",
      "metadata": {
        "colab": {
          "base_uri": "https://localhost:8080/"
        },
        "id": "uGYlWn1goPer",
        "outputId": "bfd2ba2b-eadd-4019-e1bf-74afa22f1431"
      },
      "source": [
        "import gpt_2_simple as gpt2\n",
        "\n",
        "model_name = \"124M\" # \"355M\" for larger model (it's 1.4 GB)\n",
        "gpt2.download_gpt2(model_name=model_name)   # model is saved into current directory under /models/124M/\n",
        "gpt2.mount_gdrive()\n",
        "file_name = \"title_ref2.txt\"\n",
        "gpt2.copy_file_from_gdrive(file_name)\n",
        "sess = gpt2.start_tf_sess()\n",
        "gpt2.finetune(sess,\n",
        "              dataset=file_name,\n",
        "              model_name=model_name,\n",
        "              steps=200,\n",
        "              restore_from='fresh',\n",
        "              run_name='run1',\n",
        "              print_every=10,\n",
        "              sample_every=50,\n",
        "              save_every=100\n",
        "              )   # steps is max number of training steps\n",
        "\n",
        "gpt2.generate(sess,\n",
        "              length=250,\n",
        "              temperature=0.7,\n",
        "              prefix=\"quantum\",\n",
        "              nsamples=5,\n",
        "              batch_size=5\n",
        "              )"
      ],
      "execution_count": 3,
      "outputs": [
        {
          "output_type": "stream",
          "text": [
            "Fetching checkpoint: 1.05Mit [00:00, 243Mit/s]                                                      \n",
            "Fetching encoder.json: 1.05Mit [00:01, 959kit/s]\n",
            "Fetching hparams.json: 1.05Mit [00:00, 382Mit/s]                                                    \n",
            "Fetching model.ckpt.data-00000-of-00001: 498Mit [01:17, 6.45Mit/s]\n",
            "Fetching model.ckpt.index: 1.05Mit [00:00, 331Mit/s]                                                \n",
            "Fetching model.ckpt.meta: 1.05Mit [00:00, 1.16Mit/s]\n",
            "Fetching vocab.bpe: 1.05Mit [00:00, 1.16Mit/s]\n"
          ],
          "name": "stderr"
        },
        {
          "output_type": "stream",
          "text": [
            "Mounted at /content/drive\n",
            "WARNING:tensorflow:From /usr/local/lib/python3.7/dist-packages/gpt_2_simple/src/sample.py:17: where (from tensorflow.python.ops.array_ops) is deprecated and will be removed in a future version.\n",
            "Instructions for updating:\n",
            "Use tf.where in 2.0, which has the same broadcast rule as np.where\n",
            "Loading checkpoint models/124M/model.ckpt\n",
            "INFO:tensorflow:Restoring parameters from models/124M/model.ckpt\n"
          ],
          "name": "stdout"
        },
        {
          "output_type": "stream",
          "text": [
            "100%|██████████| 1/1 [00:00<00:00, 220.79it/s]"
          ],
          "name": "stderr"
        },
        {
          "output_type": "stream",
          "text": [
            "Loading dataset...\n",
            "dataset has 2387 tokens\n",
            "Training...\n"
          ],
          "name": "stdout"
        },
        {
          "output_type": "stream",
          "text": [
            "\n"
          ],
          "name": "stderr"
        },
        {
          "output_type": "stream",
          "text": [
            "[10 | 1042.24] loss=3.61 avg=3.61\n",
            "[20 | 2111.78] loss=2.14 avg=2.87\n",
            "[30 | 3183.70] loss=0.78 avg=2.17\n",
            "[40 | 4248.46] loss=0.41 avg=1.72\n",
            "[50 | 5309.16] loss=0.07 avg=1.38\n",
            "======== SAMPLE 1 ========\n",
            " codes the operation of quantum bell inequalities: experiment and results The evolution of bell inequalities experimentally suggested modifications in an electro-optomechanical device\t\t\n",
            "quantum correlations and global coherence in distributed fault analysis\t\t\n",
            "generalized quantum correlations: the role of global moderators\t\t\n",
            "are quantum world systems able to process and process multiple jitterbugti?\t\t\n",
            "are quantum coherence simple?\u001a\n",
            "are light-dependent knockdown signs common to quantum ensembles\t\t\n",
            "modulation effect in multiphoton pair production\t\t\n",
            "quantum optical nonlinearities induced by rydberg-rydberg interactions\t\t\n",
            "experimental demonstration of the no-hiding theorem on the 5 qubit ibm quantum computer\t\t\n",
            "a set theoretical approach in the domains of quantum computation\t\t\n",
            "quantum sphere-packing bounds with polynomial prefactors\t\t\n",
            "modeling observers as physical systems representing the world from within: quantum theory as a physical and self-referential theory of inference\t\t\n",
            "emergence of correlated proton tunneling in water ice\t\t\n",
            "high-fidelity single-shot readout for a spin qubit via an enhanced latching mechanism\t\t\n",
            "\n",
            "demonstration of the no-hiding theorem on the 5 qubit ibm quantum computer\t\t\n",
            "\n",
            "a generalised framework for non-classicality in semiconductor atom clusters\t\t\n",
            "\n",
            "a suggested answer to wallstrom's criticism: bohmian theory ii\t\t\n",
            "\n",
            "proposal of a new quantum annealing schedule for an edge-breaking phaseғ\t\n",
            "\n",
            "damped casimir radiation and photon correlation measurements\t\t\n",
            "\n",
            "maximal violation of n-locality inequalities in a star-shaped quantum network\t\t\n",
            "\n",
            "an introduction to superconducting qubits and circuit quantum electrodynamics\t\t\n",
            "\n",
            "a run-time analysis of a hamiltonian quantum annealing schedule with a five-qubit quantum computer\t\t\n",
            "\n",
            "a generalised framework for non-classicality in quantum information\t\t\n",
            "\n",
            "modulation effect in multiphoton pair production\t\t\n",
            "\n",
            "resource-aware system-recurrences (SRE) in seismically active quantum dot installations\t\t\n",
            "\n",
            "resource-aware system-time updates for long-distance quantum memory\t\t\n",
            "\n",
            "device-independent tests of quantum states\t\t\n",
            "\n",
            "updating the born rule\t\t\n",
            "\n",
            "a class of time-energy uncertainty relations for a superconducting quantum network\t\t\n",
            "\n",
            "robust quantum control for adiabatic quantum computation\t\t\n",
            "\n",
            "an introduction to superconducting qubits and circuit quantum electrodynamics\t\t\n",
            "\n",
            "a set of finite-roots epistemologies for an eukaryotic quantum architecture\t\t\n",
            "\n",
            "a suggested answer to wallstrom's criticism: bohmian theory ii\t\t\n",
            "\n",
            "a set of unruh quantum annealing schedules for long-distance quantum computation\t\t\n",
            "\n",
            "a set of quantum phase-recurrences for a glauber-fock oscillator\t\t\n",
            "\n",
            "enhancement andability of quantum correlations to time complexity\t\t\n",
            "\n",
            "a set of unruh quantum annealing schedules for a five-qubit quantum computer\t\t\n",
            "\n",
            "emergence of correlated proton tunneling in water ice\t\t\n",
            "\n",
            "a set of experimentally suggested bounds for the correlation between an electro-optomechanical device and a single nv centre\t\t\n",
            "\n",
            "a set of experimentally suggested quantum ensembles for a bell diagonal quantum computation\t\t\n",
            "\n",
            "a set of minimum-uncertainty wave packet depends on much more sophisticated gaussian states\t\t\n",
            "\n",
            "demonstration of the no-hiding theorem on the 5 qubit ibm quantum computer on the basis of an independent quantum violation process\t\t\n",
            "\n",
            "a set of unruh quantum annealing bounds for the n-locality of wigner's phase\t\t\n",
            "\n",
            "an introduction to superconducting quantum gates\t\t\n",
            "\n",
            "a set of set-retest thermodynamic approximations for long-distance quantum computation\t\t\n",
            "\n",
            "a set of generalised partial-unitary quantum uncertainty relations for superconducting qubits\t\t\n",
            "\n",
            "a set of experimental quantum verification in the presence of temporally correlated noise\t\t\n",
            "\n",
            "a set of non-equilibrium entropy relations for an objective quantum control for non-equilibrium entropyrawdownload\t\n",
            "\n",
            "a non-classical representation of quantum correlations: the wigner equation\t\t\n",
            "\n",
            "a set of experimentally suggested bounds for the correlations produced by an electro-optomechanical device\t\t\n",
            "\n",
            "a set of non-exclusive key relations for the statisticsians\t\t\n",
            "\n",
            "a suggested answer to the criticism that quantum information is constant over time\t\t\n",
            "\n",
            "a set of non-local controlled-unitary quantum walk inequalities\t\t\n",
            "\n",
            "a suggested answer to the criticism of Werner's ada depends on it\t\n",
            "\n",
            "[60 | 6490.06] loss=0.04 avg=1.15\n",
            "[70 | 7564.49] loss=0.02 avg=0.99\n",
            "[80 | 8624.06] loss=0.03 avg=0.86\n",
            "[90 | 9688.93] loss=0.02 avg=0.77\n",
            "[100 | 10756.49] loss=0.02 avg=0.69\n",
            "Saving checkpoint/run1/model-100\n",
            "======== SAMPLE 1 ========\n",
            "zupov's category m with special applications to linear regression\t\t\n",
            "robust electron pairing in the integer quantum hall effect regime\t\t\n",
            "photoelectrical detection of electron spin resonance of nitrogen-vacancy centres in diamond\t\t\n",
            "storage and retrieval of vector beams of light in a multiple-degree-of-freedom quantum memory\t\t\n",
            "single-photon nonlinear optics with a quantum dot in a waveguide\t\t\n",
            "superdense teleportation using hyperentangled photons\t\t\n",
            "qudit homological product codes\t\t\n",
            "laser cooling and control of excitations in superfluid helium\t\t\n",
            "matrix poincar\\'e\t \\phi-sobolev inequalities\t and quantum ensembles\n",
            "experimental loophole-free violation of a bell inequality using entangled electron spins separated by 1.3 km�\t\n",
            "are retrocausal accounts of entanglement unnaturally fine-tuned?\t\t\n",
            "quantum cryptography beyond quantum key distribution\t\t\n",
            "quantum advice enhances social optimality in three-party conflicting interest games\t\t\n",
            "exponential decay of matrix $\\phi$-entropies on markov semigroups with applications to dynamical evolutions of quantum ensembles\t\t\n",
            "quantum assisted gaussian process regression\t\t\n",
            "rydberg-induced optical nonlinearities from a cold atomic ensemble trapped inside a cavity\t\t\n",
            "achievability of quantum regime in optomechanics of electromagnetically levitated nanoparticles: inclusion of gradient force fluctuations\t\t\n",
            "a computable branching qubit integer64e-igdownreptiled energy-storage parity-phase interactions in germanium\t\t\n",
            "on the kolmogorov--wiener--masani spectrum of a multi-mode weakly stationary quantum process\t\t\n",
            "majorana edge modes with gain and loss\t\t\n",
            "langevin equation for a dissipative macroscopic quantum system: bohmian theory versus quantum mechanics\t\t\n",
            "entanglement enabled intensity interferometry of different wavelengths of light\t\t\n",
            "a suggested answer to wallstrom's criticism: zitterbewegung stochastic mechanics ii\t\t\n",
            "discrete parametric oscillation and nondiffracting beams in a glauber-fock oscillator\t\t\n",
            "experimental preparation of topologically ordered states via adiabatic evolution\t\t\n",
            "quantum coherence behaviors of fermionic system in non-inertial frame\t\t\n",
            "emergence of network bifurcation triggered by entanglement\t\t\n",
            "biunitary constructions in quantum information\t\t\n",
            "quantum cellular automata models for general dirac equation\t\t\n",
            "neighborhood-history quantum walk\t\t\n",
            "comments on holographic complexity\t\t\n",
            "quantum states cannot be transmitted efficiently classically\t\t\n",
            "modulation effect in multiphoton pair production\t\t\n",
            "discrete-time quantum walks and graph structures\t\t\n",
            "resource-aware system architecture model for implementation of quantum aided byzantine agreement on quantum repeater networks\t\t\n",
            "device-independent tests of quantum states\t\t\n",
            "a class of time-energy uncertainty relations for time-dependent hamiltonians\t\t\n",
            "updating the born rule\t\t\n",
            "key reconciliation with low-density parity-check codes for long-distance quantum cryptography\t\t\n",
            "two-channel spin-chain communication line and simple quantum gates\t\t\n",
            "maximal violation of n-locality inequalities in a star-shaped quantum network\t\t\n",
            "complex networks from classical to quantum\t\t\n",
            "the computational landscape of general physical theories\t\t\n",
            "emergence of correlated proton tunneling in water ice\t\t\n",
            "high-fidelity single-shot readout for a spin qubit via an enhanced latching mechanism\t\t\n",
            "einstein-podolsky-rosen-like separability indicators for two-mode gaussian states\t\t\n",
            "quantum sphere-packing bounds with polynomial prefactors\t\t\n",
            "universal mbqc with generalised parity-phase interactions and pauli measurements\t\t\n",
            "coherence as a resource for source-independent quantum random-number generation\t\t\n",
            "modeling observers as physical systems representing the world from within: quantum theory as a physical and self-referential theory of inference\t\t\n",
            "quantum versus classical simultaneity in communication complexity\t\t\n",
            "recurrences in an isolated quantum many-body system\t\t\n",
            "high resolution magnetic resonance spectroscopy using solid-state spins\t\t\n",
            "graphical methods in device-independent quantum cryptography\t\t\n",
            "quantum correlations and global coherence in distributed quantum computing\t\t\n",
            "universal quantum uncertainty relations: minimum-uncertainty wave packet depends on measure of spread\t\t\n",
            "experimental quantum verification in the presence of temporally correlated noise\t\t\n",
            "proposal of a new quantum annealing schedule for studying quantum annealing of transverse field ising models\t\t\n",
            "dynamics of single-photon emission from electrically pumped color centers\t\t\n",
            "injection locking of an\n",
            "\n",
            "[110 | 11928.55] loss=0.02 avg=0.62\n",
            "[120 | 13002.13] loss=0.01 avg=0.57\n",
            "[130 | 14071.58] loss=0.02 avg=0.53\n",
            "[140 | 15141.37] loss=0.01 avg=0.49\n",
            "[150 | 16208.10] loss=0.01 avg=0.45\n",
            "======== SAMPLE 1 ========\n",
            " symmembraniac in two-channel two-mode gravity vacuo\t\t\n",
            "experimental quantum verification in the presence of temporally correlated noise\t\t\n",
            "proposal of a new quantum annealing schedule for studying quantum annealing of transverse field ising models\t\t\n",
            "dynamics of single-photon emission from electrically pumped color centers\t\t\n",
            "injection locking of an electro-optomechanical device\t\t\n",
            "entangled coherent states by mixing squeezed vacuum and coherent light\t\t\n",
            "nonclassical detectors and nonclassicality\t\t\n",
            "extension of the coherence time by generating mw dressed states in a single nv centre in diamond\t\t\n",
            "quantum gate identification: error analysis\t numerical results and optical experiment\t\n",
            "analysis of wavepacket tunneling with the method of laplace transformation\t\t\n",
            "the role of quantum coherence in non-equilibrium entropy production\t\t\n",
            "demonstration of the no-hiding theorem on the 5 qubit ibm quantum computer in a category theoretic framework\t\t\n",
            "composable security in relativistic quantum cryptography\t\t\n",
            "fully device independent conference key agreement\t\t\n",
            "complete characterization of spin chains with two ising symmetries\t\t\n",
            "tailoring the thermalization time of a cavity-field using distinct atomic reservoirs\t\t\n",
            "enhancement and sign change of magnetic correlations in a driven quantum many-body system\t\t\n",
            "the modified trace distance of coherence is constant on most pure states\t\t\n",
            "an introduction to superconducting qubits and circuit quantum electrodynamics\t\t\n",
            "semidefinite programming converse bounds for quantum communication\t\t\n",
            "autonomous thermal machine for amplification and control of energetic coherence\t\t\n",
            "excitonic coupled-cluster theory\t\t\n",
            "systematically improvable excitonic hamiltonians for electronic structure theory\t\t\n",
            "the wigner branching random walk: efficient implementation and performance evaluation\t\t\n",
            "informational work storage in quantum thermodynamics\t\t\n",
            "nodal portraits of quantum billiards: domains\t lines\t and statistics\n",
            "quantum error correction for non-maximally entangled states\t\t\n",
            "continuous-variable qkd over 50km commercial fiber\t\t\n",
            "photon position eigenvectors\t wigner's little group and berry's phase\t\n",
            "generalized uncertainty principle and quantum gravity phenomenology\t\t\n",
            "experimental demonstration of non-local controlled-unitary quantum gates using a five-qubit quantum computer\t\t\n",
            "a set theoretical approach for the partial tracing operation in quantum mechanics\t\t\n",
            "local-hidden-state models for bell diagonal states and beyond\t\t\n",
            "damped casimir radiation and photon correlation measurements\t\t\n",
            "integrating quantum key distribution with classical communications in backbone fiber network\t\t\n",
            "recovery map stability for the data processing inequality\t\t\n",
            "improving autonomous thermal entanglement generation using a common reservoir\t\t\n",
            "the unruh quantum otto engine\t\t\n",
            "a generalised framework for non-classicality of states\t\t\n",
            "effective polarisability models\t\t\n",
            "majorization and the time complexity of linear optical networks\t\t\n",
            "robust quantum control for adiabatic quantum computation\t\t\n",
            "quantum query complexity of entropy estimation\t\t\n",
            "one-body reduced density-matrix functional theory in finite basis sets at elevated temperatures\t\t\n",
            "quantum versus classical online streaming algorithms with logarithmic size of memory\t\t\n",
            "unifying entanglement with uncertainty via symmetries of observable algebras\t\t\n",
            "necessary condition for steerability of arbitrary two-qubit states with loss\t\t\n",
            "quantum mappings acting by coordinate transformations on wigner distributions\t\t\n",
            "all-microwave control and dispersive readout of gate-defined quantum dot qubits in circuit quantum electrodynamics\t\t\n",
            "improved quantum sensing with a single solid-state spin via spin-to-charge conversion\t\t\n",
            "towards a room-temperature spin-photon interface based on nitrogen-vacancy centers and optomechanics\t\t\n",
            "breaking the quantum adiabatic speed limit by jumping along geodesics\t\t\n",
            "reversing the direction of heat flow using quantum correlations\t\t\n",
            "quantum information in the posner model of quantum cognition\t\t\n",
            "uniqueness of the joint measurement and the structure of the set of compatible quantum measurements\t\t\n",
            "study on a spinorial representation of linear canonical transformations\t\t\n",
            "relaxation to a phase-locked equilibrium state in a one-dimensional bosonic josephson junction\t\t\n",
            "time operators and time crystals\t\t\n",
            "a lie algebraic approach to a nonstationary atom-cavity system\t\t\n",
            "numerical methods for the wigner equation with unbounded potential\t\t\n",
            "symmetry protected topological phases characterized by isolated exceptional points\t\t\n",
            "the dynamics of difference\t\t\n",
            "quantum simulation of the non-fermi-liquid state of s\n",
            "\n",
            "[160 | 17375.46] loss=0.01 avg=0.42\n",
            "[170 | 18444.75] loss=0.01 avg=0.40\n",
            "[180 | 19513.02] loss=0.01 avg=0.37\n",
            "[190 | 20573.62] loss=0.01 avg=0.35\n",
            "[200 | 21639.35] loss=0.01 avg=0.33\n",
            "Saving checkpoint/run1/model-200\n",
            "WARNING:tensorflow:From /tensorflow-1.15.2/python3.7/tensorflow_core/python/training/saver.py:963: remove_checkpoint (from tensorflow.python.training.checkpoint_management) is deprecated and will be removed in a future version.\n",
            "Instructions for updating:\n",
            "Use standard file APIs to delete files with this prefix.\n",
            "quantum assisted gaussian process regression\t\t\n",
            "rydberg-induced optical nonlinearities from a cold atomic ensemble trapped inside a cavity\t\t\n",
            "achievability of quantum regime in optomechanics of electromagnetically levitated nanoparticles: inclusion of gradient force fluctuations\t\t\n",
            "a computable branching random walk for the many-body wigner quantum dynamics\t\t\n",
            "on the kolmogorov--wiener--masani spectrum of a multi-mode weakly stationary quantum process\t\t\n",
            "majorana edge modes with gain and loss\t\t\n",
            "langevin equation for a dissipative macroscopic quantum system: bohmian theory versus quantum mechanics\t\t\n",
            "entanglement enabled intensity interferometry of different wavelengths of light\t\t\n",
            "a suggested answer to wallstrom's criticism: zitterbewegung stochastic mechanics ii\t\t\n",
            "discrete parametric oscillation and nondiffracting beams in a glauber-fock oscillator\t\t\n",
            "experimental preparation of topologically ordered states via adiabatic evolution\t\t\n",
            "quantum coherence behaviors of fermionic system in non-inertial frame\t\t\n",
            "emergence of network bifurcation\n",
            "====================\n",
            "quantum assisted gaussian process regression\t\t\n",
            "rydberg-induced optical nonlinearities from a cold atomic ensemble trapped inside a cavity\t\t\n",
            "achievability of quantum regime in optomechanics of electromagnetically levitated nanoparticles: inclusion of gradient force fluctuations\t\t\n",
            "a computable branching random walk for the many-body wigner quantum dynamics\t\t\n",
            "on the kolmogorov--wiener--masani spectrum of a multi-mode weakly stationary quantum process\t\t\n",
            "majorana edge modes with gain and loss\t\t\n",
            "langevin equation for a dissipative macroscopic quantum system: bohmian theory versus quantum mechanics\t\t\n",
            "entanglement enabled intensity interferometry of different wavelengths of light\t\t\n",
            "a suggested answer to wallstrom's criticism: zitterbewegung stochastic mechanics ii\t\t\n",
            "discrete parametric oscillation and nondiffracting beams in a glauber-fock oscillator\t\t\n",
            "experimental preparation of topologically ordered states via adiabatic evolution\t\t\n",
            "quantum coherence behaviors of fermionic system in non-inertial frame\t\t\n",
            "emergence of network bifurcation\n",
            "====================\n",
            "quantum assisted gaussian process regression\t\t\n",
            "rydberg-induced optical nonlinearities from a cold atomic ensemble trapped inside a cavity\t\t\n",
            "achievability of quantum regime in optomechanics of electromagnetically levitated nanoparticles: inclusion of gradient force fluctuations\t\t\n",
            "a computable branching random walk for the many-body wigner quantum dynamics\t\t\n",
            "on the kolmogorov--wiener--masani spectrum of a multi-mode weakly stationary quantum process\t\t\n",
            "majorana edge modes with gain and loss\t\t\n",
            "langevin equation for a dissipative macroscopic quantum system: bohmian theory versus quantum mechanics\t\t\n",
            "entanglement enabled intensity interferometry of different wavelengths of light\t\t\n",
            "a suggested answer to wallstrom's criticism: zitterbewegung stochastic mechanics ii\t\t\n",
            "discrete parametric oscillation and nondiffracting beams in a glauber-fock oscillator\t\t\n",
            "experimental preparation of topologically ordered states via adiabatic evolution\t\t\n",
            "quantum coherence behaviors of fermionic system in non-inertial frame\t\t\n",
            "emergence of network bifurcation\n",
            "====================\n",
            "quantum assisted gaussian process regression\t\t\n",
            "rydberg-induced optical nonlinearities from a cold atomic ensemble trapped inside a cavity\t\t\n",
            "achievability of quantum regime in optomechanics of electromagnetically levitated nanoparticles: inclusion of gradient force fluctuations\t\t\n",
            "a computable branching random walk for the many-body wigner quantum dynamics\t\t\n",
            "on the kolmogorov--wiener--masani spectrum of a multi-mode weakly stationary quantum process\t\t\n",
            "majorana edge modes with gain and loss\t\t\n",
            "langevin equation for a dissipative macroscopic quantum system: bohmian theory versus quantum mechanics\t\t\n",
            "entanglement enabled intensity interferometry of different wavelengths of light\t\t\n",
            "a suggested answer to wallstrom's criticism: zitterbewegung stochastic mechanics ii\t\t\n",
            "discrete parametric oscillation and nondiffracting beams in a glauber-fock oscillator\t\t\n",
            "experimental preparation of topologically ordered states via adiabatic evolution\t\t\n",
            "quantum coherence behaviors of fermionic system in non-inertial frame\t\t\n",
            "emergence of network bifurcation\n",
            "====================\n",
            "quantum versus classical simultaneity in communication complexity\t\t\n",
            "recurrences in an isolated quantum many-body system\t\t\n",
            "high resolution magnetic resonance spectroscopy using solid-state spins\t\t\n",
            "graphical methods in device-independent quantum cryptography\t\t\n",
            "quantum correlations and global coherence in distributed quantum computing\t\t\n",
            "universal quantum uncertainty relations: minimum-uncertainty wave packet depends on measure of spread\t\t\n",
            "experimental quantum verification in the presence of temporally correlated noise\t\t\n",
            "proposal of a new quantum annealing schedule for studying quantum annealing of transverse field ising models\t\t\n",
            "dynamics of single-photon emission from electrically pumped color centers\t\t\n",
            "injection locking of an electro-optomechanical device\t\t\n",
            "entangled coherent states by mixing squeezed vacuum and coherent light\t\t\n",
            "nonclassical detectors and nonclassicality\t\t\n",
            "extension of the coherence time by generating mw dressed states in a single nv centre in diamond\t\t\n",
            "quantum gate identification: error analysis\t numerical results and optical experiment\t\n",
            "analysis of wavepacket tunneling with the method of laplace transformation\t\t\n",
            "the role of quantum coherence in non-\n",
            "====================\n"
          ],
          "name": "stdout"
        }
      ]
    },
    {
      "cell_type": "markdown",
      "metadata": {
        "id": "FwgrI52Y3b9M"
      },
      "source": [
        "# **Step 3 - Look at the Model**\n"
      ]
    },
    {
      "cell_type": "markdown",
      "metadata": {
        "id": "IYildvXs3wyr"
      },
      "source": [
        "generating new samples from the finetuned model\n",
        "- generate one sample"
      ]
    },
    {
      "cell_type": "code",
      "metadata": {
        "id": "WSKsQh434WUS",
        "colab": {
          "base_uri": "https://localhost:8080/",
          "height": 214
        },
        "outputId": "a97260be-6df3-461a-e518-612158a34520"
      },
      "source": [
        "prefix = 'neural' # None is default\n",
        "text = gpt2.generate(sess,\n",
        "              length=40,\n",
        "              temperature=0.7,\n",
        "              prefix=prefix,\n",
        "              nsamples=1,\n",
        "              batch_size=1,\n",
        "              return_as_list=True\n",
        "             )\n",
        "\n",
        "\n",
        "t = text[0].title()\n",
        "t = t.replace('<|Startoftext|>', '').replace('\\n', '') # remove extraneous stuff\n",
        "t = t[:t.index('<|Endoftext|>')] # only get one title\n",
        "print(t)"
      ],
      "execution_count": 5,
      "outputs": [
        {
          "output_type": "error",
          "ename": "ValueError",
          "evalue": "ignored",
          "traceback": [
            "\u001b[0;31m---------------------------------------------------------------------------\u001b[0m",
            "\u001b[0;31mValueError\u001b[0m                                Traceback (most recent call last)",
            "\u001b[0;32m<ipython-input-5-0c5ee1e91423>\u001b[0m in \u001b[0;36m<module>\u001b[0;34m()\u001b[0m\n\u001b[1;32m     12\u001b[0m \u001b[0mt\u001b[0m \u001b[0;34m=\u001b[0m \u001b[0mtext\u001b[0m\u001b[0;34m[\u001b[0m\u001b[0;36m0\u001b[0m\u001b[0;34m]\u001b[0m\u001b[0;34m.\u001b[0m\u001b[0mtitle\u001b[0m\u001b[0;34m(\u001b[0m\u001b[0;34m)\u001b[0m\u001b[0;34m\u001b[0m\u001b[0;34m\u001b[0m\u001b[0m\n\u001b[1;32m     13\u001b[0m \u001b[0mt\u001b[0m \u001b[0;34m=\u001b[0m \u001b[0mt\u001b[0m\u001b[0;34m.\u001b[0m\u001b[0mreplace\u001b[0m\u001b[0;34m(\u001b[0m\u001b[0;34m'<|Startoftext|>'\u001b[0m\u001b[0;34m,\u001b[0m \u001b[0;34m''\u001b[0m\u001b[0;34m)\u001b[0m\u001b[0;34m.\u001b[0m\u001b[0mreplace\u001b[0m\u001b[0;34m(\u001b[0m\u001b[0;34m'\\n'\u001b[0m\u001b[0;34m,\u001b[0m \u001b[0;34m''\u001b[0m\u001b[0;34m)\u001b[0m \u001b[0;31m# remove extraneous stuff\u001b[0m\u001b[0;34m\u001b[0m\u001b[0;34m\u001b[0m\u001b[0m\n\u001b[0;32m---> 14\u001b[0;31m \u001b[0mt\u001b[0m \u001b[0;34m=\u001b[0m \u001b[0mt\u001b[0m\u001b[0;34m[\u001b[0m\u001b[0;34m:\u001b[0m\u001b[0mt\u001b[0m\u001b[0;34m.\u001b[0m\u001b[0mindex\u001b[0m\u001b[0;34m(\u001b[0m\u001b[0;34m'<|Endoftext|>'\u001b[0m\u001b[0;34m)\u001b[0m\u001b[0;34m]\u001b[0m \u001b[0;31m# only get one title\u001b[0m\u001b[0;34m\u001b[0m\u001b[0;34m\u001b[0m\u001b[0m\n\u001b[0m\u001b[1;32m     15\u001b[0m \u001b[0mprint\u001b[0m\u001b[0;34m(\u001b[0m\u001b[0mt\u001b[0m\u001b[0;34m)\u001b[0m\u001b[0;34m\u001b[0m\u001b[0;34m\u001b[0m\u001b[0m\n",
            "\u001b[0;31mValueError\u001b[0m: substring not found"
          ]
        }
      ]
    },
    {
      "cell_type": "markdown",
      "metadata": {
        "id": "UlaKqqSs4aIt"
      },
      "source": [
        "generate a bunch of samples"
      ]
    },
    {
      "cell_type": "code",
      "metadata": {
        "id": "Ctw9B9S64e6Y"
      },
      "source": [
        "text = gpt2.generate(sess,\n",
        "#               length=40,\n",
        "              temperature=0.7,\n",
        "              prefix=None,\n",
        "              nsamples=100,\n",
        "              batch_size=1,\n",
        "              return_as_list=True\n",
        "             )\n",
        "\n",
        "\n",
        "t = text[0].title()\n",
        "t = t.replace('<|Startoftext|>', '').replace('\\n', '') # remove extraneous stuff\n",
        "t = t[:t.index('<|Endoftext|>')] # only get one title\n",
        "print(t)"
      ],
      "execution_count": null,
      "outputs": []
    }
  ]
}